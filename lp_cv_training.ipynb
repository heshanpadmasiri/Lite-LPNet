{
 "cells": [
  {
   "cell_type": "code",
   "execution_count": 1,
   "metadata": {},
   "outputs": [],
   "source": [
    "import joblib\n",
    "from pathlib import Path\n",
    "import argparse\n",
    "import os\n",
    "import datetime\n",
    "from dataset.bbox_dataset import get_datasets, get_kfold_dataset\n",
    "from dataset.create_kfolds import create_kfolds\n",
    "from models.bbox_dispatcher import create_model\n",
    "from metrices.iou import IoU, IoUMetric\n",
    "from train_bbox import __get_callbacks__\n",
    "\n",
    "import tensorflow as tf\n",
    "\n",
    "import tensorflow as tf\n",
    "\n",
    "import os\n",
    "import datetime\n",
    "\n",
    "from PIL import Image\n",
    "import numpy as np\n",
    "import seaborn as sns\n",
    "\n",
    "import matplotlib.pyplot as plt\n",
    "from matplotlib.patches import Rectangle"
   ]
  },
  {
   "cell_type": "code",
   "execution_count": 2,
   "metadata": {},
   "outputs": [],
   "source": [
    "dataset_path = '../fyp/ccpd_sample/content/home/booy/booy/ccpd_dataset/ccpd_base/'\n",
    "folds = 3"
   ]
  },
  {
   "cell_type": "code",
   "execution_count": 3,
   "metadata": {},
   "outputs": [
    {
     "name": "stdout",
     "output_type": "stream",
     "text": [
      "dataset directory:../fyp/ccpd_sample/content/home/booy/booy/ccpd_dataset/ccpd_base\n",
      "number of files: 9999 fold size : 3333\n"
     ]
    }
   ],
   "source": [
    "fold_data = create_kfolds(Path(dataset_path), folds)\n",
    "fold = 0"
   ]
  },
  {
   "cell_type": "code",
   "execution_count": 4,
   "metadata": {},
   "outputs": [],
   "source": [
    "model_name = 'v16'\n",
    "input_shape = target_size = (480,480)\n",
    "BATCH_SIZE = 32"
   ]
  },
  {
   "cell_type": "code",
   "execution_count": 5,
   "metadata": {},
   "outputs": [],
   "source": [
    "model = create_model(model_name, input_shape + (3, ))\n",
    "train_dataset, test_dataset = get_kfold_dataset(fold_data, fold, input_shape, BATCH_SIZE)\n"
   ]
  },
  {
   "cell_type": "code",
   "execution_count": 6,
   "metadata": {},
   "outputs": [
    {
     "name": "stdout",
     "output_type": "stream",
     "text": [
      "WARNING:tensorflow:From /home/heshan/anaconda3/envs/fyp/lib/python3.8/site-packages/tensorflow/python/training/tracking/tracking.py:111: Model.state_updates (from tensorflow.python.keras.engine.training) is deprecated and will be removed in a future version.\n",
      "Instructions for updating:\n",
      "This property should not be used in TensorFlow 2.0, as updates are applied automatically.\n",
      "WARNING:tensorflow:From /home/heshan/anaconda3/envs/fyp/lib/python3.8/site-packages/tensorflow/python/training/tracking/tracking.py:111: Layer.updates (from tensorflow.python.keras.engine.base_layer) is deprecated and will be removed in a future version.\n",
      "Instructions for updating:\n",
      "This property should not be used in TensorFlow 2.0, as updates are applied automatically.\n",
      "INFO:tensorflow:Assets written to: tmp/assets\n"
     ]
    }
   ],
   "source": [
    "model.save('tmp')"
   ]
  },
  {
   "cell_type": "code",
   "execution_count": 7,
   "metadata": {},
   "outputs": [],
   "source": [
    "model_1 = tf.keras.models.load_model('tmp',custom_objects={'IoUMetric':IoUMetric})"
   ]
  },
  {
   "cell_type": "code",
   "execution_count": null,
   "metadata": {},
   "outputs": [],
   "source": [
    "def plot_image(dataset,idx=0):\n",
    "  images, Y = next(iter(dataset))\n",
    "  image = images[1]\n",
    "  y = Y[1]\n",
    "  image = (image.numpy()*255).astype(np.uint8)\n",
    "  y = (y.numpy()*target_size[0]).astype(int)\n",
    "\n",
    "  plt.imshow(image, interpolation='nearest')\n",
    "  # Get the current reference\n",
    "  ax = plt.gca()\n",
    "  x_center, y_center, w, h = y\n",
    "  x1 = x_center - (w/2)\n",
    "  y1 = y_center - (h/2)\n",
    "\n",
    "  # Create a Rectangle patch\n",
    "  rect = Rectangle((x1,y1),w,h,linewidth=1,edgecolor='r',facecolor='none')\n",
    "\n",
    "  # Add the patch to the Axes\n",
    "  ax.add_patch(rect)\n",
    "  plt.show()\n"
   ]
  },
  {
   "cell_type": "code",
   "execution_count": null,
   "metadata": {},
   "outputs": [],
   "source": [
    "plot_image(test_dataset)"
   ]
  },
  {
   "cell_type": "code",
   "execution_count": null,
   "metadata": {},
   "outputs": [],
   "source": [
    "callbacks = __get_callbacks__(model_name)\n",
    "model.fit(train_dataset,\n",
    "      validation_data=test_dataset,\n",
    "      callbacks=[callbacks],\n",
    "      epochs=60)\n"
   ]
  },
  {
   "cell_type": "code",
   "execution_count": null,
   "metadata": {},
   "outputs": [],
   "source": [
    "model_0 = tf.keras.models.load_model('cv_s1_v28/saved_models/simple_bbox/v28_0')\n",
    "model_1 = tf.keras.models.load_model('cv_s1_v28/saved_models/simple_bbox/v28_1')\n",
    "model_2 = tf.keras.models.load_model('cv_s1_v28/saved_models/simple_bbox/v28_2')"
   ]
  },
  {
   "cell_type": "code",
   "execution_count": null,
   "metadata": {},
   "outputs": [],
   "source": [
    "IMG, Y = next(iter(test_dataset))"
   ]
  },
  {
   "cell_type": "code",
   "execution_count": null,
   "metadata": {},
   "outputs": [],
   "source": [
    "def show_prediction(IMG,BBOX,idx=0):\n",
    "    image = IMG[idx]\n",
    "    y = BBOX[idx]\n",
    "    image = (image.numpy()*255).astype(np.uint8)\n",
    "    y = (y.numpy()*target_size[0]).astype(int)\n",
    "\n",
    "    plt.imshow(image, interpolation='nearest')\n",
    "    # Get the current reference\n",
    "    ax = plt.gca()\n",
    "    x_center, y_center, w, h = y\n",
    "    x1 = x_center - (w/2)\n",
    "    y1 = y_center - (h/2)\n",
    "\n",
    "    # Create a Rectangle patch\n",
    "    rect = Rectangle((x1,y1),w,h,linewidth=1,edgecolor='r',facecolor='none')\n",
    "\n",
    "    # Add the patch to the Axes\n",
    "    ax.add_patch(rect)\n",
    "    plt.show()\n"
   ]
  },
  {
   "cell_type": "code",
   "execution_count": null,
   "metadata": {},
   "outputs": [],
   "source": [
    "show_prediction(IMG,Y)"
   ]
  },
  {
   "cell_type": "code",
   "execution_count": null,
   "metadata": {},
   "outputs": [],
   "source": [
    "Y_hat = model_0(IMG)\n",
    "show_prediction(IMG,Y_hat)"
   ]
  },
  {
   "cell_type": "code",
   "execution_count": null,
   "metadata": {},
   "outputs": [],
   "source": [
    "Y_hat = model_1(IMG)\n",
    "show_prediction(IMG,Y_hat)"
   ]
  },
  {
   "cell_type": "code",
   "execution_count": null,
   "metadata": {},
   "outputs": [],
   "source": [
    "Y_hat = model_2(IMG)\n",
    "show_prediction(IMG,Y_hat)"
   ]
  },
  {
   "cell_type": "code",
   "execution_count": null,
   "metadata": {},
   "outputs": [],
   "source": [
    "def bb_intersection_over_union(boxA, boxB):\n",
    "    # determine the (x, y)-coordinates of the intersection rectangle\n",
    "    xA = max(boxA[0], boxB[0])\n",
    "    yA = max(boxA[1], boxB[1])\n",
    "    xB = min(boxA[2], boxB[2])\n",
    "    yB = min(boxA[3], boxB[3])\n",
    "    # compute the area of intersection rectangle\n",
    "    interArea = max(0, xB - xA + 1) * max(0, yB - yA + 1)\n",
    "    # compute the area of both the prediction and ground-truth\n",
    "    # rectangles\n",
    "    boxAArea = (boxA[2] - boxA[0] + 1) * (boxA[3] - boxA[1] + 1)\n",
    "    boxBArea = (boxB[2] - boxB[0] + 1) * (boxB[3] - boxB[1] + 1)\n",
    "    # compute the intersection over union by taking the intersection\n",
    "    # area and dividing it by the sum of prediction + ground-truth\n",
    "    # areas - the interesection area\n",
    "    iou = interArea / float(boxAArea + boxBArea - interArea)\n",
    "    # return the intersection over union value\n",
    "    return iou\n",
    "\n",
    "@tf.function\n",
    "def to_box_cords(bboxs):\n",
    "    X = bboxs[:,0]\n",
    "    Y = bboxs[:,1]\n",
    "    W = bboxs[:,2]\n",
    "    H = bboxs[:,3]\n",
    "    X_1 = X - (W/2)\n",
    "    Y_1 = Y - (H/2)\n",
    "    X_2 = X + (W/2)\n",
    "    Y_2 = Y + (H/2)\n",
    "    return tf.stack([Y_1,X_1,Y_2,X_2],axis=1)"
   ]
  },
  {
   "cell_type": "code",
   "execution_count": null,
   "metadata": {},
   "outputs": [],
   "source": [
    "box_true = to_box_cords(Y)\n",
    "box_pred = to_box_cords(Y_hat)"
   ]
  },
  {
   "cell_type": "code",
   "execution_count": null,
   "metadata": {},
   "outputs": [],
   "source": [
    "boxA = box_true * target_size[0]\n",
    "boxB = box_pred * target_size[0]"
   ]
  },
  {
   "cell_type": "code",
   "execution_count": null,
   "metadata": {},
   "outputs": [],
   "source": [
    "boxes = tf.stack([boxA,boxB],axis=1)"
   ]
  },
  {
   "cell_type": "code",
   "execution_count": null,
   "metadata": {},
   "outputs": [],
   "source": [
    "def __iou__(boxes):\n",
    "    boxA = boxes[0,:]\n",
    "    boxB = boxes[1,:]\n",
    "    xA = tf.math.maximum(boxA[0], boxB[0])\n",
    "    yA = tf.math.maximum(boxA[1], boxB[1])\n",
    "    xB = tf.math.minimum(boxA[2], boxB[2])\n",
    "    yB = tf.math.minimum(boxA[3], boxB[3])\n",
    "    # compute the area of intersection rectangle\n",
    "    interArea = tf.math.maximum(0, xB - xA + 1) * tf.math.maximum(0, yB - yA + 1)\n",
    "    # compute the area of both the prediction and ground-truth\n",
    "    # rectangles\n",
    "    boxAArea = (boxA[2] - boxA[0] + 1) * (boxA[3] - boxA[1] + 1)\n",
    "    boxBArea = (boxB[2] - boxB[0] + 1) * (boxB[3] - boxB[1] + 1)\n",
    "    # compute the intersection over union by taking the intersection\n",
    "    # area and dividing it by the sum of prediction + ground-truth\n",
    "    # areas - the interesection area\n",
    "    iou = interArea / float(boxAArea + boxBArea - interArea)\n",
    "    # return the intersection over union value\n",
    "    return iou"
   ]
  },
  {
   "cell_type": "code",
   "execution_count": null,
   "metadata": {},
   "outputs": [],
   "source": [
    "ious = tf.map_fn(fn=__iou__, elems=boxes)\n",
    "iou = tf.reduce_sum(ious) / Y.shape[0]"
   ]
  },
  {
   "cell_type": "code",
   "execution_count": null,
   "metadata": {},
   "outputs": [],
   "source": [
    "iou"
   ]
  },
  {
   "cell_type": "code",
   "execution_count": null,
   "metadata": {},
   "outputs": [],
   "source": [
    "class IoU(tf.keras.metrics.Metric):\n",
    "    def __init__(self,target_size, threshold=0.7,name='iou',**kwargs):\n",
    "        super(IoU, self).__init__(name=name, **kwargs)\n",
    "        self.target_size = target_size\n",
    "        self.threshold = threshold\n",
    "        self.iou = self.add_weight(name='iou', initializer='zeros')\n",
    "    \n",
    "    @tf.function\n",
    "    def __iou__(self,boxes):\n",
    "        boxA = boxes[0,:]\n",
    "        boxB = boxes[1,:]\n",
    "        xA = tf.math.maximum(boxA[0], boxB[0])\n",
    "        yA = tf.math.maximum(boxA[1], boxB[1])\n",
    "        xB = tf.math.minimum(boxA[2], boxB[2])\n",
    "        yB = tf.math.minimum(boxA[3], boxB[3])\n",
    "        # compute the area of intersection rectangle\n",
    "        interArea = tf.math.maximum(0.0, xB - xA + 1) * tf.math.maximum(0.0, yB - yA + 1)\n",
    "        # compute the area of both the prediction and ground-truth\n",
    "        # rectangles\n",
    "        boxAArea = (boxA[2] - boxA[0] + 1) * (boxA[3] - boxA[1] + 1)\n",
    "        boxBArea = (boxB[2] - boxB[0] + 1) * (boxB[3] - boxB[1] + 1)\n",
    "        # compute the intersection over union by taking the intersection\n",
    "        # area and dividing it by the sum of prediction + ground-truth\n",
    "        # areas - the interesection area\n",
    "        iou = interArea / float(boxAArea + boxBArea - interArea)\n",
    "        # return the intersection over union value\n",
    "        return iou\n",
    "        \n",
    "    @tf.function\n",
    "    def to_box_cords(self,bboxs):\n",
    "        X = bboxs[:,0]\n",
    "        Y = bboxs[:,1]\n",
    "        W = bboxs[:,2]\n",
    "        H = bboxs[:,3]\n",
    "        X_1 = X - (W/2)\n",
    "        Y_1 = Y - (H/2)\n",
    "        X_2 = X + (W/2)\n",
    "        Y_2 = Y + (H/2)\n",
    "        return tf.stack([Y_1,X_1,Y_2,X_2],axis=1)\n",
    "    \n",
    "    def update_state(self, Y, Y_hat, sample_weight=None):\n",
    "        box_true = self.to_box_cords(Y)\n",
    "        box_pred = self.to_box_cords(Y_hat)\n",
    "        \n",
    "        boxA = box_true * self.target_size[0]\n",
    "        boxB = box_pred * self.target_size[0]\n",
    "        boxes = tf.stack([boxA,boxB],axis=1)\n",
    "        \n",
    "        ious = tf.map_fn(fn=self.__iou__, elems=boxes)\n",
    "        iou = tf.reduce_sum(ious) / Y.shape[0]\n",
    "        \n",
    "        self.iou.assign_add(iou)\n",
    "        \n",
    "    def result(self):\n",
    "        return self.iou"
   ]
  },
  {
   "cell_type": "code",
   "execution_count": null,
   "metadata": {},
   "outputs": [],
   "source": [
    "m = IoU((480,480))\n",
    "m.update_state(Y,Y_hat)"
   ]
  },
  {
   "cell_type": "code",
   "execution_count": null,
   "metadata": {},
   "outputs": [],
   "source": [
    "m.result().numpy()"
   ]
  },
  {
   "cell_type": "code",
   "execution_count": null,
   "metadata": {},
   "outputs": [],
   "source": []
  }
 ],
 "metadata": {
  "kernelspec": {
   "display_name": "Python 3",
   "language": "python",
   "name": "python3"
  },
  "language_info": {
   "codemirror_mode": {
    "name": "ipython",
    "version": 3
   },
   "file_extension": ".py",
   "mimetype": "text/x-python",
   "name": "python",
   "nbconvert_exporter": "python",
   "pygments_lexer": "ipython3",
   "version": "3.8.3"
  }
 },
 "nbformat": 4,
 "nbformat_minor": 4
}
